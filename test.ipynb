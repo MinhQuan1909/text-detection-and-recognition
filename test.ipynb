{
 "cells": [
  {
   "cell_type": "code",
   "execution_count": 1,
   "metadata": {},
   "outputs": [],
   "source": [
    "from PIL import Image\n",
    "import cv2\n",
    "from src.parseq.parseq_predict import predict_parseq"
   ]
  },
  {
   "cell_type": "code",
   "execution_count": 2,
   "metadata": {},
   "outputs": [],
   "source": [
    "from src.parseq.load_model import load_model_parseq"
   ]
  },
  {
   "cell_type": "code",
   "execution_count": 3,
   "metadata": {},
   "outputs": [
    {
     "name": "stderr",
     "output_type": "stream",
     "text": [
      "c:\\Users\\lemin\\anaconda3\\envs\\parseq310\\lib\\site-packages\\tqdm\\auto.py:22: TqdmWarning: IProgress not found. Please update jupyter and ipywidgets. See https://ipywidgets.readthedocs.io/en/stable/user_install.html\n",
      "  from .autonotebook import tqdm as notebook_tqdm\n",
      "c:\\Users\\lemin\\anaconda3\\envs\\parseq310\\lib\\site-packages\\pytorch_lightning\\utilities\\cloud_io.py:38: FutureWarning: You are using `torch.load` with `weights_only=False` (the current default value), which uses the default pickle module implicitly. It is possible to construct malicious pickle data which will execute arbitrary code during unpickling (See https://github.com/pytorch/pytorch/blob/main/SECURITY.md#untrusted-models for more details). In a future release, the default value for `weights_only` will be flipped to `True`. This limits the functions that could be executed during unpickling. Arbitrary objects will no longer be allowed to be loaded via this mode unless they are explicitly allowlisted by the user via `torch.serialization.add_safe_globals`. We recommend you start setting `weights_only=True` for any use case where you don't have full control of the loaded file. Please open an issue on GitHub for any issues related to this experimental feature.\n",
      "  return torch.load(f, map_location=map_location)\n"
     ]
    }
   ],
   "source": [
    "parseq, img_transform=load_model_parseq(device='cpu')"
   ]
  },
  {
   "cell_type": "code",
   "execution_count": 14,
   "metadata": {},
   "outputs": [],
   "source": [
    "image = '2.png'\n",
    "# image = 'casino.jpg'\n",
    "# image = '1.jpg'\n",
    "sub_img = Image.open(image).convert('RGB')"
   ]
  },
  {
   "cell_type": "code",
   "execution_count": 15,
   "metadata": {},
   "outputs": [
    {
     "name": "stdout",
     "output_type": "stream",
     "text": [
      "Model parseq predict this text: \"PHÒNGHAIPHIỆPIÒELCO.uk\" with proba 71.69%\n"
     ]
    }
   ],
   "source": [
    "(pred, prob) = predict_parseq(parseq=parseq, img_transform=img_transform, image=sub_img, device='cpu')\n",
    "print(f'Model parseq predict this text: \"{pred[0]}\" with proba {round(prob * 100, 2)}%')"
   ]
  },
  {
   "cell_type": "code",
   "execution_count": null,
   "metadata": {},
   "outputs": [],
   "source": []
  },
  {
   "cell_type": "code",
   "execution_count": 17,
   "metadata": {},
   "outputs": [
    {
     "name": "stdout",
     "output_type": "stream",
     "text": [
      "['PHÒNGHAIPHIỆPIÒELCO.uk', 'CASINO'] 0.7169029220290806\n"
     ]
    }
   ],
   "source": [
    "image_paths = [\n",
    "    '2.png',\n",
    "    'casino.jpg',\n",
    "]\n",
    "\n",
    "# Chuyển đổi hình ảnh thành tensor\n",
    "images = [Image.open(path).convert('RGB') for path in image_paths]\n",
    "\n",
    "# Gọi hàm dự đoán với batch hình ảnh\n",
    "preds, probs = predict_parseq(parseq=parseq, img_transform=img_transform, image=images, device='cpu')\n",
    "\n",
    "print(preds, probs)"
   ]
  },
  {
   "cell_type": "code",
   "execution_count": null,
   "metadata": {},
   "outputs": [],
   "source": []
  },
  {
   "cell_type": "code",
   "execution_count": null,
   "metadata": {},
   "outputs": [],
   "source": []
  },
  {
   "cell_type": "code",
   "execution_count": 1,
   "metadata": {},
   "outputs": [
    {
     "name": "stderr",
     "output_type": "stream",
     "text": [
      "c:\\Users\\lemin\\anaconda3\\envs\\parseq310\\lib\\site-packages\\tqdm\\auto.py:22: TqdmWarning: IProgress not found. Please update jupyter and ipywidgets. See https://ipywidgets.readthedocs.io/en/stable/user_install.html\n",
      "  from .autonotebook import tqdm as notebook_tqdm\n"
     ]
    },
    {
     "name": "stdout",
     "output_type": "stream",
     "text": [
      "Module ray không được cài đặt. Bỏ qua.\n",
      "Lỗi khi lấy phiên bản của ax: \n",
      "Đã tạo tệp requirements_new2.txt thành công.\n"
     ]
    }
   ],
   "source": [
    "import sys\n",
    "import subprocess\n",
    "\n",
    "# Định nghĩa mapping từ tên module đến tên gói pip\n",
    "module_to_pip = {\n",
    "    \"timm\": \"timm\",\n",
    "    \"nltk\": \"nltk\",\n",
    "    \"lmdb\": \"lmdb\",\n",
    "    \"PIL\": \"Pillow\",\n",
    "    \"imgaug\": \"imgaug\",\n",
    "    \"hydra\": \"hydra-core\",\n",
    "    \"fvcore\": \"fvcore\",\n",
    "    \"ray\": \"ray[tune]\",\n",
    "    \"ax\": \"ax-platform\",\n",
    "    \"yaml\": \"PyYAML\",\n",
    "    \"tqdm\": \"tqdm\",\n",
    "    \"cv2\": \"opencv-python\",\n",
    "    \"streamlit\": \"streamlit\",\n",
    "    \"torch\": \"torch\",\n",
    "    \"pytorch_lightning\": \"pytorch-lightning\"\n",
    "}\n",
    "\n",
    "# Danh sách module bạn đã import\n",
    "import_modules = [\n",
    "    \"timm\",\n",
    "    \"nltk\",\n",
    "    \"lmdb\",\n",
    "    \"PIL\",\n",
    "    \"imgaug\",\n",
    "    \"hydra\",\n",
    "    \"fvcore\",\n",
    "    \"ray\",\n",
    "    \"ax\",\n",
    "    \"yaml\",\n",
    "    \"tqdm\",\n",
    "    \"cv2\",\n",
    "    \"streamlit\",\n",
    "    \"torch\",\n",
    "    \"pytorch_lightning\"\n",
    "]\n",
    "\n",
    "# Dictionary để lưu tên gói và phiên bản\n",
    "requirements = {}\n",
    "\n",
    "for module in import_modules:\n",
    "    pip_package = module_to_pip.get(module)\n",
    "    if not pip_package:\n",
    "        print(f\"Không tìm thấy mapping cho module: {module}. Bỏ qua.\")\n",
    "        continue\n",
    "    try:\n",
    "        # Import module\n",
    "        imported_module = __import__(module)\n",
    "        \n",
    "        # Lấy phiên bản của module\n",
    "        version = getattr(imported_module, '__version__', None)\n",
    "        \n",
    "        # Một số module có cấu trúc phiên bản khác\n",
    "        if version is None:\n",
    "            if module == \"PIL\":\n",
    "                version = imported_module.__version__\n",
    "            elif module == \"cv2\":\n",
    "                version = imported_module.__version__\n",
    "            elif module == \"hydra\":\n",
    "                version = imported_module.__version__\n",
    "            elif module == \"ray\":\n",
    "                version = imported_module.__version__\n",
    "            elif module == \"ax\":\n",
    "                version = imported_module.__version__\n",
    "            elif module == \"pytorch_lightning\":\n",
    "                version = imported_module.__version__\n",
    "            else:\n",
    "                version = \"Không xác định\"\n",
    "        \n",
    "        if version == \"Không xác định\":\n",
    "            print(f\"Không thể xác định phiên bản cho {pip_package}. Bạn có thể cần thêm thủ công.\")\n",
    "            continue\n",
    "        \n",
    "        requirements[pip_package] = version\n",
    "    except ImportError:\n",
    "        print(f\"Module {module} không được cài đặt. Bỏ qua.\")\n",
    "    except Exception as e:\n",
    "        print(f\"Lỗi khi lấy phiên bản của {module}: {e}\")\n",
    "\n",
    "# Ghi vào tệp requirements.txt\n",
    "with open(\"requirements_new2.txt\", \"w\") as f:\n",
    "    for pkg, ver in requirements.items():\n",
    "        f.write(f\"{pkg}=={ver}\\n\")\n",
    "\n",
    "print(\"Đã tạo tệp requirements_new2.txt thành công.\")"
   ]
  },
  {
   "cell_type": "code",
   "execution_count": null,
   "metadata": {},
   "outputs": [],
   "source": []
  }
 ],
 "metadata": {
  "kernelspec": {
   "display_name": "parseq310",
   "language": "python",
   "name": "python3"
  },
  "language_info": {
   "codemirror_mode": {
    "name": "ipython",
    "version": 3
   },
   "file_extension": ".py",
   "mimetype": "text/x-python",
   "name": "python",
   "nbconvert_exporter": "python",
   "pygments_lexer": "ipython3",
   "version": "3.10.14"
  }
 },
 "nbformat": 4,
 "nbformat_minor": 2
}
